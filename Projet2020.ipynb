{
 "cells": [
  {
   "cell_type": "markdown",
   "metadata": {},
   "source": [
    "# Projet MathF-314 : Partie Informatique                                              2019/2020\n",
    "### Hajjaj Zakariae , Onur Yavas\n",
    "### 000439743  ,   000424929\n",
    "## Introduction :\n",
    "\n",
    "Un sujet important en mécanique des fluides est l'étude de la stabilité des écoulements. De manière générale, on se donne un champ de vitesse du fluide laminaire U et on étudie son évolution lorsqu'on lui ajoute des \"petites\" perturbations. Si ces perturbations décroissent systématiquement au cours du temps, l'écoulement sera dit **stable**. Dans le cas contraire, l'écoulement pourrait être instable et se transformer en un écoulement **turbulent**.\n",
    "\n",
    "## Travail personnel :\n",
    "On commence par introduire les modules python que nous utiliserons et on rajoute nos données de base :"
   ]
  },
  {
   "cell_type": "code",
   "execution_count": 3,
   "metadata": {},
   "outputs": [],
   "source": [
    "from math import *\n",
    "import numpy as np\n",
    "from numpy.linalg import inv\n",
    "import scipy\n",
    "from scipy import linalg\n",
    "from matplotlib import pyplot as plt\n",
    "import random\n",
    "N=101\n",
    "L=1.0\n",
    "y=np.linspace(-L,L,N)\n",
    "dy=2*L/(N-1)"
   ]
  },
  {
   "cell_type": "markdown",
   "metadata": {},
   "source": [
    "## Question 1 :\n",
    "Pour $ \\widehat{\\nu'}$, le problème contient 4 conditions aux bords. Les conditions du type Dirichlet se traduisent par: v[0]=0 et v[N-1]=0.\n",
    "On détermine comment se traduisent les conditions du type von Neumann $\\frac{\\partial \\nu}{\\partial y}$(y=1) = $\\frac{\\partial \\nu}{\\partial y}$(y=-1)=0 si on adopte une \"forward finite difference\" du second ordre pour la dérivée première sur le bord  et une \"backward finite difference\" du second ordre pour la dérivée première sur le bord .\n",
    "\n",
    "De la question précédente, on déduit que la discrétisation de $\\widehat{\\nu'} $ ne contient que $ N-4$ valeurs indépendantes et qu'on peut dès lors définir numériquement.\n",
    "\n",
    "Pour notre condition $\\frac{\\partial \\nu}{\\partial y}$(y=-1)=0 en forward infinite difference , on a :\n",
    "\n",
    "$f'(x_{0})$ = $ \\frac{-3/2 f(x_{0}) + 2f(x_{1}) - 1/2 f(x_{2})}{dy} $\n",
    "\n",
    "et pour notre condition $\\frac{\\partial \\nu}{\\partial y}$(y=1)=0 en backward infinite difference , on a :\n",
    "\n",
    "$f'(x_{0})$ = $ \\frac{1/2 f(x_{-2}) - 2f(x_{-1}) + 3/2 f(x_{0})}{dy} $\n",
    "\n",
    "Après calcul en remplaçant la fonction par $ \\nu'$ , on se retrouve avec les conditions suivantes :\n",
    "$ \\nu'(1) = 1/4 \\nu'(2) $ et $ \\nu'(N-2) = 1/4  \\nu'(N-3) $\n",
    "\n",
    "\n",
    "On déduit,du coup ,que la discrétisation de $\\nu' $ ne contient que $ N-4$ valeurs indépendantes et qu'on peut dès lors définir numériquement."
   ]
  },
  {
   "cell_type": "code",
   "execution_count": 4,
   "metadata": {},
   "outputs": [],
   "source": [
    "v=np.empty(N-4)"
   ]
  },
  {
   "cell_type": "markdown",
   "metadata": {},
   "source": [
    "## Question 2 :\n",
    "On compléte la routine suivante afin qu'elle retourne une discrétisation de l'opérateur $ D^{2} $ du type \"central finite difference\" valable à l'ordre 2 et qui agit sur les valeurs indépendantes de $ \\nu'$ :"
   ]
  },
  {
   "cell_type": "code",
   "execution_count": 5,
   "metadata": {},
   "outputs": [],
   "source": [
    "def D2_v(N,dy):\n",
    "    D2 = np.zeros((N-4,N-4))    # matrice N-4 x N-4\n",
    "    for i in range(N-4):\n",
    "        if i == 0:\n",
    "            D2[0,0]=-(7/4)/(dy**2)   # les coefficients sont obtenu a partir de la central difference avec nos conditons au bord de von neumon et dirichlet \n",
    "            D2[0,1]=1/(dy**2)        # On fait attention au début et à la fin pour utiliser nos conditions de bords\n",
    "        elif i == N-5:\n",
    "            D2[N-5,N-5]=-(7/4)/(dy**2)\n",
    "            D2[N-5,N-6]=1/(dy**2)\n",
    "        else:\n",
    "            D2[i,i]=-2/(dy**2)\n",
    "            D2[i,i+1]=1/(dy**2)\n",
    "            D2[i,i-1]=1/(dy**2)\n",
    "    return D2"
   ]
  },
  {
   "cell_type": "markdown",
   "metadata": {},
   "source": [
    "## Question 3 :\n",
    "On fait de même pour l'opérateur de dérivée 4ème, $ D^{4} = \\frac{\\partial^4 }{\\partial y} $ en complétant la routine suivante afin qu'elle retourne une discrétisation de l'opérateur  du type \"central finite difference\" valable à l'ordre 2 et qui agit sur les valeurs indépendantes de $ \\nu'(y)$ :"
   ]
  },
  {
   "cell_type": "code",
   "execution_count": 6,
   "metadata": {},
   "outputs": [],
   "source": [
    "def D4_v(N,dy):\n",
    "    D4 = np.zeros((N-4,N-4))\n",
    "    for i in range(N-4):\n",
    "        if i == 0:\n",
    "            D4[0,0]=5/(dy**4)\n",
    "            D4[0,1]=-4/(dy**4)         # Les coefficients sont aussi donné par la methode central finite difference\n",
    "            D4[0,2]=1/(dy**4)      \n",
    "        elif i == 1:\n",
    "            D4[1,0]=(-4+1/4)/(dy**4)\n",
    "            D4[1,1]=6/(dy**4)\n",
    "            D4[1,2]=-4/(dy**4)\n",
    "            D4[1,3]=1/(dy**4)\n",
    "        elif i == N-6:\n",
    "            D4[N-6,N-6]=6/(dy**4)\n",
    "            D4[N-6,N-7]=-4/(dy**4)\n",
    "            D4[N-6,N-8]=1/(dy**4)                  # cette fois ci on fait attention à 2 fois car on prend des 2 éléments avant et après.      \n",
    "            D4[N-6,N-5]=(-4+1/4)/(dy**4)\n",
    "        elif i == N-5:\n",
    "            D4[N-5,N-5]=5/(dy**4)\n",
    "            D4[N-5,N-6]=-4/(dy**4)\n",
    "            D4[N-5,N-7]=1/(dy**4)            \n",
    "        else:\n",
    "            D4[i,i]=6/(dy**4)\n",
    "            D4[i,i-1]=-4/(dy**4)\n",
    "            D4[i,i-2]=1/(dy**4)                        \n",
    "            D4[i,i+1]=-4/(dy**4)\n",
    "            D4[i,i+2]=1/(dy**4)\n",
    "    return D4"
   ]
  },
  {
   "cell_type": "markdown",
   "metadata": {},
   "source": [
    "## Question 4 :\n",
    "On construis une routine qui permet de construire l'opérateur $ L $"
   ]
  },
  {
   "cell_type": "code",
   "execution_count": 7,
   "metadata": {},
   "outputs": [],
   "source": [
    "def L_v(N,y,dy,R,a):\n",
    "   U = np.matrix(np.zeros((N-4,N-4))) \n",
    "   for i in range(N-4): \n",
    "    U[i,i]=(1-((y[i+2])**2)) \n",
    "   Us=np.matrix((-2)*np.identity(N-4))\n",
    "   D2=np.matrix(D2_v(N,dy))\n",
    "   D4=np.matrix(D4_v(N,dy))\n",
    "   A = np.matrix(a * np.identity(N-4))\n",
    "   L = inv(np.matrix(D2-1*A**2))*(-1j*a*(U)*(D2-A**2)+1j*a*(Us)+1/R*(D4-2*(A**2)*D2+A**4))\n",
    "   return L"
   ]
  },
  {
   "cell_type": "markdown",
   "metadata": {},
   "source": [
    "## Question 5 :\n",
    "On utilise l' algortihme RK4 dans le temps (https://en.wikipedia.org/wiki/Runge–Kutta_methods#The_Runge–Kutta_method) et un pas de temps de $ dt=0.01 $ . On calcule la valeur de $ \\nu'$ en $ y = 0.5$ pour un temps final de $ 10s $ à partir de la condition initiale suivante :\n",
    "                $ \\nu'(y) = 0.02 * (1+cos( \\pi y )) $\n",
    "\n",
    "On choisit commme paramêtres $ R = 500 $ et $ \\alpha = 0.3 $ \n",
    "\n",
    "Solution: $ \\nu'(0.5)$= 0.00772852 - 0.1239437i"
   ]
  },
  {
   "cell_type": "code",
   "execution_count": 8,
   "metadata": {},
   "outputs": [
    {
     "name": "stdout",
     "output_type": "stream",
     "text": [
      "[[0.00772852-0.01239437j]]\n"
     ]
    }
   ],
   "source": [
    "def v_0(y):                                 #On définit notre v(y) donné par l'énoncé \n",
    "    v= np.zeros((N-4,1))\n",
    "    i=0\n",
    "    while i < N-4:\n",
    "        v2 = 0.02*(1+cos(pi*y[i+2]))\n",
    "        v[i]=v2\n",
    "        i= i +1\n",
    "    return v\n",
    "def R_K(N,y,dy,R,a,v0,h):                    # On applique Runge-kutta \n",
    "    v=v0\n",
    "    for i in range(1000):\n",
    "        k1 = h*L_v(N,y,dy,R,a)*(v)\n",
    "        v_k1 = np.add(v,0.5*k1)\n",
    "        k2 = h*L_v(N,y,dy,R,a)*(v_k1)\n",
    "        v_k2 = np.add(v,0.5*k2)\n",
    "        k3 = h*L_v(N,y,dy,R,a)*(v_k2)\n",
    "        v_k3 = np.add(v,k3)\n",
    "        k4 = h*L_v(N,y,dy,R,a)*(v_k3)\n",
    "        k2_2 = 2*k2\n",
    "        k3_2 = 2*k3\n",
    "        k3_k4 = np.add(k3_2,k4)\n",
    "        k1_k2 = np.add(k1,k2_2)\n",
    "        K = 1/6*np.add(k1_k2,k3_k4)\n",
    "        v = np.add(v,K)\n",
    "    return v                                   #On aura tout les valeurs de v(y) pour toute les valeurs de y défini avant la question 1\n",
    "v0 = v_0(y)\n",
    "R=500\n",
    "a=0.3\n",
    "h = 0.01\n",
    "res = R_K(N,y,dy,R,a,v0,h)\n",
    "print(res[-24])                             # On prend l'emplacement où y=0.5 dans le vecteur y défini avant la question 1, et cet emplacement est y[-24]=0.5"
   ]
  },
  {
   "cell_type": "markdown",
   "metadata": {},
   "source": [
    "## Question 6 :\n",
    "On calcule le propagateur $ X $  à l'instant $ t = 10$ pour les mêmes valeurs des paramètres ( $ R $ et $ \\alpha $ ). On utilise à nouveau l' algorithme RK4 dans le temps et un pas de temps $ dt = 0.01$."
   ]
  },
  {
   "cell_type": "code",
   "execution_count": 9,
   "metadata": {},
   "outputs": [
    {
     "name": "stdout",
     "output_type": "stream",
     "text": [
      "[[-0.0016916 +0.00087957j -0.00096121+0.00073356j -0.00072181+0.00076221j\n",
      "  ... -0.00051373-0.00031961j -0.00052634-0.00046955j\n",
      "  -0.00073908-0.0009299j ]\n",
      " [-0.00379288+0.00192498j -0.00216   +0.0016166j  -0.00162786+0.00168694j\n",
      "  ... -0.00113195-0.00070122j -0.00116109-0.00103203j\n",
      "  -0.00163295-0.00204778j]\n",
      " [-0.00668547+0.00329612j -0.00381687+0.00279289j -0.00288859+0.00293051j\n",
      "  ... -0.00196107-0.00120501j -0.00201508-0.0017784j\n",
      "  -0.00284077-0.00353835j]\n",
      " ...\n",
      " [-0.00284077-0.00353835j -0.00201508-0.0017784j  -0.00196107-0.00120501j\n",
      "  ... -0.00288859+0.00293051j -0.00381687+0.00279289j\n",
      "  -0.00668547+0.00329612j]\n",
      " [-0.00163295-0.00204778j -0.00116109-0.00103203j -0.00113195-0.00070122j\n",
      "  ... -0.00162786+0.00168694j -0.00216   +0.0016166j\n",
      "  -0.00379288+0.00192498j]\n",
      " [-0.00073908-0.0009299j  -0.00052634-0.00046955j -0.00051373-0.00031961j\n",
      "  ... -0.00072181+0.00076221j -0.00096121+0.00073356j\n",
      "  -0.0016916 +0.00087957j]]\n"
     ]
    }
   ],
   "source": [
    "x0 = np.matrix(np.identity(N-4))    # X(0) est défini comme la matrice identité\n",
    "res_X= R_K(N,y,dy,R,a,x0,h)\n",
    "print(res_X)"
   ]
  },
  {
   "cell_type": "markdown",
   "metadata": {},
   "source": [
    "## Question 7 :\n",
    "On vérifie que le propagateur transforme bien la condition initiale de la question 5 en la solution qu'on a obtenue."
   ]
  },
  {
   "cell_type": "code",
   "execution_count": 10,
   "metadata": {},
   "outputs": [
    {
     "name": "stdout",
     "output_type": "stream",
     "text": [
      "[[-1.35525272e-19+4.06575815e-20j]\n",
      " [-2.16840434e-19+8.13151629e-20j]\n",
      " [-4.87890978e-19+2.16840434e-19j]\n",
      " [-8.67361738e-19+3.25260652e-19j]\n",
      " [-1.19262239e-18+3.25260652e-19j]\n",
      " [-1.73472348e-18+8.67361738e-19j]\n",
      " [-2.38524478e-18+4.33680869e-19j]\n",
      " [-2.60208521e-18+4.33680869e-19j]\n",
      " [-3.03576608e-18-4.33680869e-19j]\n",
      " [-3.46944695e-18+8.67361738e-19j]\n",
      " [-4.33680869e-18-4.33680869e-19j]\n",
      " [-5.63785130e-18+0.00000000e+00j]\n",
      " [-6.93889390e-18+1.73472348e-18j]\n",
      " [-7.80625564e-18+1.73472348e-18j]\n",
      " [-8.67361738e-18+0.00000000e+00j]\n",
      " [-6.93889390e-18+0.00000000e+00j]\n",
      " [-7.80625564e-18-1.73472348e-18j]\n",
      " [-9.54097912e-18+2.60208521e-18j]\n",
      " [-1.04083409e-17-3.46944695e-18j]\n",
      " [-6.93889390e-18+0.00000000e+00j]\n",
      " [-6.93889390e-18+3.46944695e-18j]\n",
      " [-9.54097912e-18+3.46944695e-18j]\n",
      " [-1.12757026e-17-3.46944695e-18j]\n",
      " [-9.54097912e-18+1.73472348e-18j]\n",
      " [-1.04083409e-17-6.93889390e-18j]\n",
      " [-1.04083409e-17-1.04083409e-17j]\n",
      " [-1.38777878e-17-1.21430643e-17j]\n",
      " [-1.38777878e-17-2.42861287e-17j]\n",
      " [-1.21430643e-17-1.38777878e-17j]\n",
      " [-1.56125113e-17-1.04083409e-17j]\n",
      " [-1.56125113e-17-6.93889390e-18j]\n",
      " [-1.73472348e-17-6.93889390e-18j]\n",
      " [-1.90819582e-17-3.46944695e-18j]\n",
      " [-1.73472348e-17+0.00000000e+00j]\n",
      " [-1.90819582e-17-3.46944695e-18j]\n",
      " [-1.90819582e-17+6.93889390e-18j]\n",
      " [-1.56125113e-17+3.46944695e-18j]\n",
      " [-1.56125113e-17-3.46944695e-18j]\n",
      " [-2.25514052e-17+6.93889390e-18j]\n",
      " [-1.56125113e-17+3.46944695e-18j]\n",
      " [-1.73472348e-17+0.00000000e+00j]\n",
      " [-1.73472348e-17-1.04083409e-17j]\n",
      " [-1.73472348e-17-6.93889390e-18j]\n",
      " [-1.38777878e-17+0.00000000e+00j]\n",
      " [-1.38777878e-17+0.00000000e+00j]\n",
      " [-1.90819582e-17-3.46944695e-18j]\n",
      " [-1.04083409e-17-6.93889390e-18j]\n",
      " [-1.21430643e-17+3.46944695e-18j]\n",
      " [-8.67361738e-18-3.46944695e-18j]\n",
      " [-1.21430643e-17-3.46944695e-18j]\n",
      " [-1.21430643e-17+3.46944695e-18j]\n",
      " [-5.20417043e-18+3.46944695e-18j]\n",
      " [-6.93889390e-18-3.46944695e-18j]\n",
      " [-8.67361738e-18+6.93889390e-18j]\n",
      " [-1.21430643e-17-3.46944695e-18j]\n",
      " [-1.38777878e-17-1.04083409e-17j]\n",
      " [-1.38777878e-17+3.46944695e-18j]\n",
      " [-8.67361738e-18+1.04083409e-17j]\n",
      " [-1.90819582e-17+6.93889390e-18j]\n",
      " [-1.04083409e-17+6.93889390e-18j]\n",
      " [-1.21430643e-17+3.46944695e-18j]\n",
      " [-1.21430643e-17+3.46944695e-18j]\n",
      " [-1.73472348e-17+3.46944695e-18j]\n",
      " [-1.04083409e-17+0.00000000e+00j]\n",
      " [-1.21430643e-17+1.04083409e-17j]\n",
      " [-1.21430643e-17+6.93889390e-18j]\n",
      " [-1.38777878e-17+1.04083409e-17j]\n",
      " [-1.21430643e-17+1.73472348e-17j]\n",
      " [-1.04083409e-17+6.93889390e-18j]\n",
      " [-1.38777878e-17+6.93889390e-18j]\n",
      " [-8.67361738e-18+3.46944695e-18j]\n",
      " [-1.04083409e-17+6.93889390e-18j]\n",
      " [-8.67361738e-18+0.00000000e+00j]\n",
      " [-7.80625564e-18-1.73472348e-18j]\n",
      " [-5.20417043e-18-1.73472348e-18j]\n",
      " [-4.33680869e-18-3.46944695e-18j]\n",
      " [-3.46944695e-18+0.00000000e+00j]\n",
      " [-1.73472348e-18-1.73472348e-18j]\n",
      " [-5.20417043e-18-1.73472348e-18j]\n",
      " [-4.33680869e-18-3.46944695e-18j]\n",
      " [-3.46944695e-18-1.73472348e-18j]\n",
      " [-4.33680869e-18+1.73472348e-18j]\n",
      " [-2.60208521e-18+1.73472348e-18j]\n",
      " [-8.67361738e-19-8.67361738e-19j]\n",
      " [-1.30104261e-18-8.67361738e-19j]\n",
      " [-4.33680869e-19+0.00000000e+00j]\n",
      " [-4.33680869e-19+8.67361738e-19j]\n",
      " [-4.33680869e-19+8.67361738e-19j]\n",
      " [ 1.30104261e-18-8.67361738e-19j]\n",
      " [ 4.33680869e-19-2.16840434e-19j]\n",
      " [-4.33680869e-19+2.16840434e-19j]\n",
      " [ 4.33680869e-19+0.00000000e+00j]\n",
      " [-1.08420217e-19+3.25260652e-19j]\n",
      " [-1.08420217e-19+2.16840434e-19j]\n",
      " [-2.71050543e-19+2.16840434e-19j]\n",
      " [-5.42101086e-20+1.08420217e-19j]\n",
      " [-1.35525272e-20+4.06575815e-20j]]\n"
     ]
    }
   ],
   "source": [
    "res_v = res_X*v0\n",
    "Q=res_v - res                           # on soustrait les 2 résultat pour voir que nous avons bien l'égalité\n",
    "print(Q)          "
   ]
  },
  {
   "cell_type": "markdown",
   "metadata": {},
   "source": [
    "**On a des termes exposant -17,-18,... donc très très proche de 0** "
   ]
  },
  {
   "cell_type": "markdown",
   "metadata": {},
   "source": [
    "## Question 8 : \n",
    "On utilise la fonction disponible dans numpy pour effectuer la décomposition singulière du propagateur obtenu à la question 7 et on calcule la plus grande des valeurs singulières. On fait un graphique de la perturbation optimale correspondante (elle correspond au vecteur d'entrée associé à cette plus grande valeur singulière).\n",
    "\n",
    "Solution: s=3.3042383"
   ]
  },
  {
   "cell_type": "code",
   "execution_count": 11,
   "metadata": {},
   "outputs": [
    {
     "name": "stdout",
     "output_type": "stream",
     "text": [
      "3.3042383414767778\n"
     ]
    },
    {
     "data": {
      "image/png": "[encoded data removed]",
      "text/plain": [
       "<Figure size 432x288 with 1 Axes>"
      ]
     },
     "metadata": {
      "needs_background": "light"
     },
     "output_type": "display_data"
    }
   ],
   "source": [
    "u,s,vh = np.linalg.svd(res_X)                # la fonction numpy qui effectue la décomposition singulière\n",
    "\n",
    "max_s = s[0]\n",
    "print(max_s)                                # la valeur qu'on cherche\n",
    "input_v = np.transpose(np.conj(vh))\n",
    "opt_perturbation = input_v[:,0]\n",
    "Re=plt.plot(opt_perturbation.real)\n",
    "Im=plt.plot(opt_perturbation.imag)                 # on plot le graphique de la perturbation\n",
    "plt.show(Re)\n",
    "plt.show(Im)"
   ]
  },
  {
   "cell_type": "markdown",
   "metadata": {},
   "source": [
    "**En bleu nous avons les termes Réelles de opt_perturbation et en orange nous avons les termes Complexes de opt_pertubation**"
   ]
  },
  {
   "cell_type": "markdown",
   "metadata": {},
   "source": [
    "## Question 9 :\n",
    "En faisant varier $\\alpha$ comme paramètre dans le propagateur,on écrit un programme qui permet de déterminer la valeur de $\\alpha$ qui maximise l'amplification des perturbations à l'instant  $t=10$ (toujours avec le même $R$ ) et en utilisant la même résolution et méthode numérique que précédemment. On fait aussi un graphique de $s$ en fonction de $\\alpha$.\n",
    "On résout cette exercice par graphique,i.e on regarde le maximum dans notre graphique ( le sommet ici ).\n",
    "Donc ici on est au alentour de la position : (1.5,10)"
   ]
  },
  {
   "cell_type": "code",
   "execution_count": 13,
   "metadata": {},
   "outputs": [
    {
     "data": {
      "image/png": "[encoded data removed]",
      "text/plain": [
       "<Figure size 432x288 with 1 Axes>"
      ]
     },
     "metadata": {
      "needs_background": "light"
     },
     "output_type": "display_data"
    }
   ],
   "source": [
    "a = 0\n",
    "s_l = np.array([])          \n",
    "a_l = np.array([])\n",
    "while a < 3:\n",
    "    a_l = np.append(a_l,a)\n",
    "    X = R_K(N,y,dy,R,a,x0,h) \n",
    "    u,s,vh = np.linalg.svd(X)\n",
    "    s_l = np.append(s_l,s[0])\n",
    "    a= a + 0.1\n",
    "plt.plot(a_l, s_l)      \n",
    "plt.show()"
   ]
  },
  {
   "cell_type": "markdown",
   "metadata": {},
   "source": [
    "## Bibliographie :\n",
    "https://en.wikipedia.org/wiki/Finite_difference_coefficient\n",
    "https://en.wikipedia.org/wiki/Runge–Kutta_methods\n",
    "https://nbviewer.jupyter.org/github/numerical-mooc/numerical-mooc/blob/master/lessons/02_spacetime/02_03_1DDiffusion.ipynb"
   ]
  },
  {
   "cell_type": "code",
   "execution_count": null,
   "metadata": {},
   "outputs": [],
   "source": []
  }
 ],
 "metadata": {
  "kernelspec": {
   "display_name": "Python 3",
   "language": "python",
   "name": "python3"
  },
  "language_info": {
   "codemirror_mode": {
    "name": "ipython",
    "version": 3
   },
   "file_extension": ".py",
   "mimetype": "text/x-python",
   "name": "python",
   "nbconvert_exporter": "python",
   "pygments_lexer": "ipython3",
   "version": "3.7.4"
  },
  "widgets": {
   "application/vnd.jupyter.widget-state+json": {
    "state": {},
    "version_major": 2,
    "version_minor": 0
   }
  }
 },
 "nbformat": 4,
 "nbformat_minor": 2
}
